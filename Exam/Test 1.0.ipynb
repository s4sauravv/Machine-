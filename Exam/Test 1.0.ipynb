{
 "cells": [
  {
   "cell_type": "markdown",
   "id": "b5fe5366",
   "metadata": {},
   "source": [
    "# Test 1.0 (Basic Python)\n"
   ]
  },
  {
   "cell_type": "markdown",
   "id": "1a3110e4",
   "metadata": {},
   "source": [
    "#  List"
   ]
  },
  {
   "cell_type": "markdown",
   "id": "fd2263a0",
   "metadata": {},
   "source": [
    "1- Create an empty list called fruits.\n",
    "\n",
    "2- Add \"apple\" to the fruits list using append().\n",
    "\n",
    "3- Add another list [\"banana\", \"cherry\"] to fruits using extend().\n",
    "\n",
    "4- Remove \"banana\" from the fruits list using remove().\n",
    "\n",
    "5- Remove the last item from fruits using pop().\n",
    "\n",
    "6- Reverse the fruits list using reverse().\n",
    "\n",
    "7- Insert \"mango\" at index 1 in the fruits list using insert().\n",
    "\n",
    "8- Print elements from index 2 to 4 using slicing.\n",
    "\n",
    "9- Create a list of numbers from 1 to 5.\n",
    "\n",
    "10- Print the first and last element of the list using indexing.\n",
    "\n",
    "11- Change the value at index 2 to 10.\n",
    "\n",
    "12- Check if \"grape\" exists in the list fruits, and print a message.\n",
    "\n",
    "13- Use a loop to print all items in the list one by one.\n",
    "\n",
    "14- Use len() to print the number of items in the list.\n",
    "\n"
   ]
  },
  {
   "cell_type": "markdown",
   "id": "06c5be66",
   "metadata": {},
   "source": [
    "# Tuple"
   ]
  },
  {
   "cell_type": "markdown",
   "id": "82dc2cb0",
   "metadata": {},
   "source": [
    "1- Create a tuple of numbers like (1, 2, 3, 2, 4, 2).\n",
    "\n",
    "2- Use count() to find how many times 2 appears.\n",
    "\n",
    "3- Use index() to find the index of the number 4.\n",
    "\n",
    "4- If you want to add an item to a tuple, how will you convert it to a list, append the item, and convert it back to a tuple?\n",
    "\n",
    "5- Create a tuple of 3 strings: \"red\", \"green\", \"blue\".\n",
    "\n",
    "6- Try changing the first item of the tuple — what error do you get?\n",
    "\n",
    "7- Convert this tuple to a list, add a new color, and convert it back to a tuple.\n",
    "\n"
   ]
  },
  {
   "cell_type": "markdown",
   "id": "c60ddf0c",
   "metadata": {},
   "source": [
    "# Set"
   ]
  },
  {
   "cell_type": "markdown",
   "id": "82a76072",
   "metadata": {},
   "source": [
    "1- Create an empty set called my_set.\n",
    "\n",
    "2- Add \"apple\" and \"banana\" to my_set using add().\n",
    "\n",
    "3- Do sets allow duplicate values? Explain with an example.\n",
    "\n",
    "4- Create two sets:\n",
    "set1 = {1, 2, 3}\n",
    "set2 = {3, 4, 5}\n",
    "Find the union and intersection of the sets.\n",
    "\n",
    "5- Remove an item from a set using discard().\n",
    "\n",
    "6- Use a loop to print all elements in a set."
   ]
  },
  {
   "cell_type": "markdown",
   "id": "baa9de5d",
   "metadata": {},
   "source": [
    "# Dictionary"
   ]
  },
  {
   "cell_type": "markdown",
   "id": "b026602a",
   "metadata": {},
   "source": [
    "1- Create a dictionary with a key \"name\" and value \"Ali\".\n",
    "\n",
    "2- Access the value of the key \"name\".\n",
    "\n",
    "3- Add a new key \"age\" with the value 25.\n",
    "\n",
    "4- Update the value of \"name\" to \"Ahmed\".\n",
    "\n",
    "5- Create a dictionary of a student: {\"name\": \"Sara\", \"grade\": \"A\", \"age\": 17}\n",
    "\n",
    "6- Print all keys in the dictionary.\n",
    "\n",
    "7- Print all values in the dictionary.\n",
    "\n",
    "8- Check if \"grade\" key exists in the dictionary.\n",
    "\n",
    "9- Loop through the dictionary and print each key and its value."
   ]
  },
  {
   "cell_type": "markdown",
   "id": "e9ebdc38",
   "metadata": {},
   "source": [
    "# If-Elif-Else"
   ]
  },
  {
   "cell_type": "raw",
   "id": "524b0516",
   "metadata": {},
   "source": [
    "numbers = [5, 10, 15, 20, 25]"
   ]
  },
  {
   "cell_type": "markdown",
   "id": "2b080c16",
   "metadata": {},
   "source": [
    "1- Check if 10 is in the list. If it is, print \"Found 10\", otherwise print \"10 not found\".\n",
    "\n",
    "2- Write a condition: If any number is greater than 20, print \"Large number\", else print \"Small number\".\n",
    "\n"
   ]
  },
  {
   "cell_type": "markdown",
   "id": "37b86d19",
   "metadata": {},
   "source": [
    "# Simple Expression"
   ]
  },
  {
   "cell_type": "markdown",
   "id": "590b5937",
   "metadata": {},
   "source": [
    "1- Given a = 5, b = 10 Print the results of: a + b, a * b, b - a, and b / a.\n",
    "\n",
    "2- Write an expression to calculate (a + b) * 2 and print the result.\n",
    "\n",
    "3- Write a program that takes age as input from the user and checks:\n",
    "\n",
    "4- If age >= 18, print \"You are an adult\", Otherwise, print \"You are a minor\""
   ]
  },
  {
   "cell_type": "markdown",
   "id": "1e845f1a",
   "metadata": {},
   "source": [
    "# More Expression Questions"
   ]
  },
  {
   "cell_type": "markdown",
   "id": "080b9bab",
   "metadata": {},
   "source": [
    "1- Calculate the area of a rectangle with width = 5 and height = 10. (Formula: area = width * height)\n",
    "\n",
    "2- Write an expression that converts Celsius to Fahrenheit:\n",
    "F = (C * 9/5) + 32, where C = 25.\n",
    "\n",
    "3- Write a simple interest formula:\n",
    "SI = (P * R * T) / 100, where P=1000, R=5, T=2"
   ]
  },
  {
   "cell_type": "markdown",
   "id": "93c1b2a0",
   "metadata": {},
   "source": [
    "# Range Function"
   ]
  },
  {
   "cell_type": "markdown",
   "id": "11b3f55b",
   "metadata": {},
   "source": [
    "1- Use range() to print numbers from 0 to 4.\n",
    "\n",
    "2- Use range(1, 6) to print numbers from 1 to 5.\n",
    "\n",
    "3- Use a for loop with range(5) to print \"Hello\" 5 times.\n",
    "\n",
    "4- Use range(2, 11, 2) to print even numbers from 2 to 10.\n",
    "\n",
    "5- Use range(10, 0, -1) to print numbers from 10 to 1 in reverse order.\n",
    "\n",
    "6- Store a range(3, 8) in a list and print that list.\n",
    "\n",
    "7- Use range() inside a loop to print squares of numbers from 1 to 5.\n",
    "\n"
   ]
  },
  {
   "cell_type": "raw",
   "id": "cd66d971",
   "metadata": {},
   "source": [
    "All the Best \n",
    "Submit Before Saturday 12 PM"
   ]
  }
 ],
 "metadata": {
  "kernelspec": {
   "display_name": "Python 3 (ipykernel)",
   "language": "python",
   "name": "python3"
  },
  "language_info": {
   "codemirror_mode": {
    "name": "ipython",
    "version": 3
   },
   "file_extension": ".py",
   "mimetype": "text/x-python",
   "name": "python",
   "nbconvert_exporter": "python",
   "pygments_lexer": "ipython3",
   "version": "3.10.12"
  }
 },
 "nbformat": 4,
 "nbformat_minor": 5
}
